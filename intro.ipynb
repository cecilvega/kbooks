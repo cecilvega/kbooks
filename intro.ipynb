{
 "cells": [
  {
   "metadata": {},
   "cell_type": "markdown",
   "source": [
    "---\n",
    "title: \"Komatsu Equipment Analysis\"\n",
    "subtitle: \"Q2 2025 Performance Report\"\n",
    "author: \"Operations Team\"\n",
    "date: today\n",
    "---"
   ],
   "id": "91eeb6c12c4574ba"
  },
  {
   "metadata": {},
   "cell_type": "markdown",
   "source": [
    "<div style=\"text-align: right;\">\n",
    "  <img src=\"komatsu-logo.png\" width=\"150\">\n",
    "</div>\n",
    "\n",
    "# Komatsu Equipment Analysis\n",
    "\n",
    "<div class=\"callout\">\n",
    "<h3>🏆 Key Achievements Q2 2025</h3>\n",
    "- Record revenue: <strong>¥16.3 Billion</strong><br>\n",
    "- Units delivered: <strong>552 machines</strong><br>\n",
    "- Customer satisfaction: <strong>94%</strong>\n",
    "</div>\n"
   ],
   "id": "8ea0ae36baf3efc"
  },
  {
   "metadata": {},
   "cell_type": "markdown",
   "source": [
    "## Regional Performance\n",
    "\n",
    "::: {.columns}\n",
    "::: {.column width=\"50%\"}\n",
    "### Asia Pacific\n",
    "- **Units Sold**: 452\n",
    "- **Growth**: +23% YoY\n",
    "- **Top Model**: PC210\n",
    ":::\n",
    "\n",
    "::: {.column width=\"50%\"}\n",
    "### North America\n",
    "- **Units Sold**: 387\n",
    "- **Growth**: +18% YoY\n",
    "- **Top Model**: WA500\n",
    ":::\n",
    ":::"
   ],
   "id": "e987264af27cdf30"
  },
  {
   "metadata": {},
   "cell_type": "code",
   "source": [
    "# Cell 3 (Code)\n",
    "import pandas as pd\n",
    "import plotly.express as px"
   ],
   "id": "8dcbaaf668d78a83",
   "outputs": [],
   "execution_count": null
  },
  {
   "metadata": {},
   "cell_type": "code",
   "source": [
    "# Cell 3 (Code)\n",
    "import pandas as pd\n",
    "import plotly.express as px\n",
    "\n",
    "# Create sample data with Komatsu equipment\n",
    "data = {\n",
    "    \"Equipment\": [\"PC210 Excavator\", \"D65 Bulldozer\", \"WA500 Loader\", \"HD785 Truck\"],\n",
    "    \"Units Sold\": [150, 87, 120, 95],\n",
    "    \"Revenue (M¥)\": [4500, 3480, 3600, 4750],\n",
    "}\n",
    "df = pd.DataFrame(data)\n",
    "\n",
    "# Create branded chart\n",
    "fig = px.bar(\n",
    "    df, x=\"Equipment\", y=\"Units Sold\", color_discrete_sequence=[\"#003366\", \"#FFCC00\"]\n",
    ")\n",
    "fig.update_layout(\n",
    "    title=\"Q2 2025 Equipment Sales\",\n",
    "    plot_bgcolor=\"white\",\n",
    "    font=dict(family=\"Arial\", color=\"#003366\"),\n",
    ")\n",
    "fig.show()"
   ],
   "id": "d85ada789227b5f8",
   "outputs": [],
   "execution_count": null
  },
  {
   "metadata": {
    "ExecuteTime": {
     "end_time": "2025-06-06T02:30:37.813606Z",
     "start_time": "2025-06-06T02:30:37.809102Z"
    }
   },
   "cell_type": "code",
   "source": [
    "40 * 12"
   ],
   "id": "deb813baf4c89005",
   "outputs": [
    {
     "data": {
      "text/plain": [
       "480"
      ]
     },
     "execution_count": 1,
     "metadata": {},
     "output_type": "execute_result"
    }
   ],
   "execution_count": 1
  },
  {
   "metadata": {
    "ExecuteTime": {
     "end_time": "2025-06-06T02:30:38.672200Z",
     "start_time": "2025-06-06T02:30:38.669320Z"
    }
   },
   "cell_type": "code",
   "source": [
    "180 * 8"
   ],
   "id": "6405f0d45af0edc4",
   "outputs": [
    {
     "data": {
      "text/plain": [
       "1440"
      ]
     },
     "execution_count": 2,
     "metadata": {},
     "output_type": "execute_result"
    }
   ],
   "execution_count": 2
  }
 ],
 "metadata": {
  "kernelspec": {
   "display_name": "Python 3",
   "language": "python",
   "name": "python3"
  },
  "language_info": {
   "codemirror_mode": {
    "name": "ipython",
    "version": 2
   },
   "file_extension": ".py",
   "mimetype": "text/x-python",
   "name": "python",
   "nbconvert_exporter": "python",
   "pygments_lexer": "ipython2",
   "version": "2.7.6"
  }
 },
 "nbformat": 4,
 "nbformat_minor": 5
}
